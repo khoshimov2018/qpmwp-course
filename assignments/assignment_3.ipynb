{
 "cells": [
  {
   "cell_type": "markdown",
   "metadata": {},
   "source": [
    "# Assignment 3\n",
    "\n",
    "Deadline: 09.04.2025 12:00 CET\n",
    "\n",
    "Khoshimov Rakhmatillokhon 23-060-361 rakhmatillokhon.khoshimov@uzh.ch"
   ]
  },
  {
   "cell_type": "code",
   "execution_count": 1,
   "metadata": {},
   "outputs": [
    {
     "ename": "RuntimeError",
     "evalue": "This version of jaxlib was built using AVX instructions, which your CPU and/or operating system do not support. This error is frequently encountered on macOS when running an x86 Python installation on ARM hardware. In this case, try installing an ARM build of Python. Otherwise, you may be able work around this issue by building jaxlib from source.",
     "output_type": "error",
     "traceback": [
      "\u001b[0;31m---------------------------------------------------------------------------\u001b[0m",
      "\u001b[0;31mRuntimeError\u001b[0m                              Traceback (most recent call last)",
      "Cell \u001b[0;32mIn[1], line 20\u001b[0m\n\u001b[1;32m     18\u001b[0m \u001b[38;5;28;01mfrom\u001b[39;00m \u001b[38;5;21;01mestimation\u001b[39;00m\u001b[38;5;21;01m.\u001b[39;00m\u001b[38;5;21;01mcovariance\u001b[39;00m \u001b[38;5;28;01mimport\u001b[39;00m Covariance\n\u001b[1;32m     19\u001b[0m \u001b[38;5;28;01mfrom\u001b[39;00m \u001b[38;5;21;01mestimation\u001b[39;00m\u001b[38;5;21;01m.\u001b[39;00m\u001b[38;5;21;01mexpected_return\u001b[39;00m \u001b[38;5;28;01mimport\u001b[39;00m ExpectedReturn\n\u001b[0;32m---> 20\u001b[0m \u001b[38;5;28;01mfrom\u001b[39;00m \u001b[38;5;21;01moptimization\u001b[39;00m\u001b[38;5;21;01m.\u001b[39;00m\u001b[38;5;21;01moptimization\u001b[39;00m \u001b[38;5;28;01mimport\u001b[39;00m MeanVariance\n\u001b[1;32m     21\u001b[0m \u001b[38;5;28;01mfrom\u001b[39;00m \u001b[38;5;21;01mbacktesting\u001b[39;00m\u001b[38;5;21;01m.\u001b[39;00m\u001b[38;5;21;01mbacktest_item_builder_classes\u001b[39;00m \u001b[38;5;28;01mimport\u001b[39;00m (\n\u001b[1;32m     22\u001b[0m     SelectionItemBuilder,\n\u001b[1;32m     23\u001b[0m     OptimizationItemBuilder,\n\u001b[1;32m     24\u001b[0m )\n\u001b[1;32m     25\u001b[0m \u001b[38;5;28;01mfrom\u001b[39;00m \u001b[38;5;21;01mbacktesting\u001b[39;00m\u001b[38;5;21;01m.\u001b[39;00m\u001b[38;5;21;01mbacktest_item_builder_functions\u001b[39;00m \u001b[38;5;28;01mimport\u001b[39;00m (\n\u001b[1;32m     26\u001b[0m     bibfn_selection_data_random,\n\u001b[1;32m     27\u001b[0m     bibfn_return_series,\n\u001b[1;32m     28\u001b[0m     bibfn_budget_constraint,\n\u001b[1;32m     29\u001b[0m     bibfn_box_constraints,\n\u001b[1;32m     30\u001b[0m )\n",
      "File \u001b[0;32m~/qpmwp-course/src/optimization/optimization.py:27\u001b[0m\n\u001b[1;32m     25\u001b[0m \u001b[38;5;28;01mfrom\u001b[39;00m \u001b[38;5;21;01m.\u001b[39;00m\u001b[38;5;21;01moptimization_data\u001b[39;00m \u001b[38;5;28;01mimport\u001b[39;00m OptimizationData\n\u001b[1;32m     26\u001b[0m \u001b[38;5;28;01mfrom\u001b[39;00m \u001b[38;5;21;01m.\u001b[39;00m\u001b[38;5;21;01mconstraints\u001b[39;00m \u001b[38;5;28;01mimport\u001b[39;00m Constraints\n\u001b[0;32m---> 27\u001b[0m \u001b[38;5;28;01mfrom\u001b[39;00m \u001b[38;5;21;01m.\u001b[39;00m\u001b[38;5;21;01mquadratic_program\u001b[39;00m \u001b[38;5;28;01mimport\u001b[39;00m QuadraticProgram\n\u001b[1;32m     33\u001b[0m \u001b[38;5;66;03m# TODO:\u001b[39;00m\n\u001b[1;32m     34\u001b[0m \n\u001b[1;32m     35\u001b[0m \u001b[38;5;66;03m# [ ] Add classes:\u001b[39;00m\n\u001b[0;32m   (...)\u001b[0m\n\u001b[1;32m     39\u001b[0m \u001b[38;5;66;03m#    [ ] MaxUtility\u001b[39;00m\n\u001b[1;32m     40\u001b[0m \u001b[38;5;66;03m#    [ ] RiskParity\u001b[39;00m\n\u001b[1;32m     48\u001b[0m \u001b[38;5;28;01mclass\u001b[39;00m \u001b[38;5;21;01mObjective\u001b[39;00m():\n",
      "File \u001b[0;32m~/qpmwp-course/src/optimization/quadratic_program.py:22\u001b[0m\n\u001b[1;32m     20\u001b[0m \u001b[38;5;28;01mimport\u001b[39;00m \u001b[38;5;21;01mos\u001b[39;00m\n\u001b[1;32m     21\u001b[0m os\u001b[38;5;241m.\u001b[39menviron[\u001b[38;5;124m\"\u001b[39m\u001b[38;5;124mQPSOLVERS_NO_JAX\u001b[39m\u001b[38;5;124m\"\u001b[39m] \u001b[38;5;241m=\u001b[39m \u001b[38;5;124m\"\u001b[39m\u001b[38;5;124m1\u001b[39m\u001b[38;5;124m\"\u001b[39m\n\u001b[0;32m---> 22\u001b[0m \u001b[38;5;28;01mimport\u001b[39;00m \u001b[38;5;21;01mqpsolvers\u001b[39;00m\n\u001b[1;32m     23\u001b[0m \u001b[38;5;28;01mimport\u001b[39;00m \u001b[38;5;21;01mscipy\u001b[39;00m\u001b[38;5;21;01m.\u001b[39;00m\u001b[38;5;21;01msparse\u001b[39;00m \u001b[38;5;28;01mas\u001b[39;00m \u001b[38;5;21;01mspa\u001b[39;00m\n\u001b[1;32m     28\u001b[0m ALL_SOLVERS \u001b[38;5;241m=\u001b[39m {\u001b[38;5;124m'\u001b[39m\u001b[38;5;124mclarabel\u001b[39m\u001b[38;5;124m'\u001b[39m, \u001b[38;5;124m'\u001b[39m\u001b[38;5;124mcvxopt\u001b[39m\u001b[38;5;124m'\u001b[39m, \u001b[38;5;124m'\u001b[39m\u001b[38;5;124mdaqp\u001b[39m\u001b[38;5;124m'\u001b[39m, \u001b[38;5;124m'\u001b[39m\u001b[38;5;124mecos\u001b[39m\u001b[38;5;124m'\u001b[39m, \u001b[38;5;124m'\u001b[39m\u001b[38;5;124mgurobi\u001b[39m\u001b[38;5;124m'\u001b[39m, \u001b[38;5;124m'\u001b[39m\u001b[38;5;124mhighs\u001b[39m\u001b[38;5;124m'\u001b[39m, \u001b[38;5;124m'\u001b[39m\u001b[38;5;124mmosek\u001b[39m\u001b[38;5;124m'\u001b[39m, \u001b[38;5;124m'\u001b[39m\u001b[38;5;124mosqp\u001b[39m\u001b[38;5;124m'\u001b[39m, \u001b[38;5;124m'\u001b[39m\u001b[38;5;124mpiqp\u001b[39m\u001b[38;5;124m'\u001b[39m, \u001b[38;5;124m'\u001b[39m\u001b[38;5;124mproxqp\u001b[39m\u001b[38;5;124m'\u001b[39m, \u001b[38;5;124m'\u001b[39m\u001b[38;5;124mqpalm\u001b[39m\u001b[38;5;124m'\u001b[39m, \u001b[38;5;124m'\u001b[39m\u001b[38;5;124mquadprog\u001b[39m\u001b[38;5;124m'\u001b[39m, \u001b[38;5;124m'\u001b[39m\u001b[38;5;124mscs\u001b[39m\u001b[38;5;124m'\u001b[39m}\n",
      "File \u001b[0;32m~/qpmwp-course/env3.12/lib/python3.12/site-packages/qpsolvers/__init__.py:9\u001b[0m\n\u001b[1;32m      1\u001b[0m \u001b[38;5;66;03m#!/usr/bin/env python\u001b[39;00m\n\u001b[1;32m      2\u001b[0m \u001b[38;5;66;03m# -*- coding: utf-8 -*-\u001b[39;00m\n\u001b[1;32m      3\u001b[0m \u001b[38;5;66;03m#\u001b[39;00m\n\u001b[1;32m      4\u001b[0m \u001b[38;5;66;03m# SPDX-License-Identifier: LGPL-3.0-or-later\u001b[39;00m\n\u001b[1;32m      5\u001b[0m \u001b[38;5;66;03m# Copyright 2016-2022 Stéphane Caron and the qpsolvers contributors\u001b[39;00m\n\u001b[1;32m      7\u001b[0m \u001b[38;5;124;03m\"\"\"Quadratic programming solvers in Python with a unified API.\"\"\"\u001b[39;00m\n\u001b[0;32m----> 9\u001b[0m \u001b[38;5;28;01mfrom\u001b[39;00m \u001b[38;5;21;01m.\u001b[39;00m\u001b[38;5;21;01m_internals\u001b[39;00m \u001b[38;5;28;01mimport\u001b[39;00m available_solvers\n\u001b[1;32m     10\u001b[0m \u001b[38;5;28;01mfrom\u001b[39;00m \u001b[38;5;21;01m.\u001b[39;00m\u001b[38;5;21;01mactive_set\u001b[39;00m \u001b[38;5;28;01mimport\u001b[39;00m ActiveSet\n\u001b[1;32m     11\u001b[0m \u001b[38;5;28;01mfrom\u001b[39;00m \u001b[38;5;21;01m.\u001b[39;00m\u001b[38;5;21;01mexceptions\u001b[39;00m \u001b[38;5;28;01mimport\u001b[39;00m (\n\u001b[1;32m     12\u001b[0m     NoSolverSelected,\n\u001b[1;32m     13\u001b[0m     ParamError,\n\u001b[0;32m   (...)\u001b[0m\n\u001b[1;32m     17\u001b[0m     SolverNotFound,\n\u001b[1;32m     18\u001b[0m )\n",
      "File \u001b[0;32m~/qpmwp-course/env3.12/lib/python3.12/site-packages/qpsolvers/_internals.py:11\u001b[0m\n\u001b[1;32m      7\u001b[0m \u001b[38;5;124;03m\"\"\"Internal objects.\"\"\"\u001b[39;00m\n\u001b[1;32m      9\u001b[0m \u001b[38;5;28;01mimport\u001b[39;00m \u001b[38;5;21;01mwarnings\u001b[39;00m\n\u001b[0;32m---> 11\u001b[0m \u001b[38;5;28;01mfrom\u001b[39;00m \u001b[38;5;21;01m.\u001b[39;00m\u001b[38;5;21;01msolvers\u001b[39;00m \u001b[38;5;28;01mimport\u001b[39;00m available_solvers \u001b[38;5;28;01mas\u001b[39;00m supported_solvers\n\u001b[1;32m     12\u001b[0m \u001b[38;5;28;01mfrom\u001b[39;00m \u001b[38;5;21;01m.\u001b[39;00m\u001b[38;5;21;01msolvers\u001b[39;00m \u001b[38;5;28;01mimport\u001b[39;00m solve_function \u001b[38;5;28;01mas\u001b[39;00m supported_solve\n\u001b[1;32m     13\u001b[0m \u001b[38;5;28;01mfrom\u001b[39;00m \u001b[38;5;21;01m.\u001b[39;00m\u001b[38;5;21;01munsupported\u001b[39;00m \u001b[38;5;28;01mimport\u001b[39;00m available_solvers \u001b[38;5;28;01mas\u001b[39;00m unsupported_solvers\n",
      "File \u001b[0;32m~/qpmwp-course/env3.12/lib/python3.12/site-packages/qpsolvers/solvers/__init__.py:742\u001b[0m\n\u001b[1;32m    723\u001b[0m qpax_solve_qp: Optional[\n\u001b[1;32m    724\u001b[0m     Callable[\n\u001b[1;32m    725\u001b[0m         [\n\u001b[0;32m   (...)\u001b[0m\n\u001b[1;32m    738\u001b[0m     ]\n\u001b[1;32m    739\u001b[0m ] \u001b[38;5;241m=\u001b[39m \u001b[38;5;28;01mNone\u001b[39;00m\n\u001b[1;32m    741\u001b[0m \u001b[38;5;28;01mtry\u001b[39;00m:\n\u001b[0;32m--> 742\u001b[0m     \u001b[38;5;28;01mfrom\u001b[39;00m \u001b[38;5;21;01m.\u001b[39;00m\u001b[38;5;21;01mqpax_\u001b[39;00m \u001b[38;5;28;01mimport\u001b[39;00m qpax_solve_problem, qpax_solve_qp\n\u001b[1;32m    744\u001b[0m     solve_function[\u001b[38;5;124m\"\u001b[39m\u001b[38;5;124mqpax\u001b[39m\u001b[38;5;124m\"\u001b[39m] \u001b[38;5;241m=\u001b[39m qpax_solve_problem\n\u001b[1;32m    745\u001b[0m     available_solvers\u001b[38;5;241m.\u001b[39mappend(\u001b[38;5;124m\"\u001b[39m\u001b[38;5;124mqpax\u001b[39m\u001b[38;5;124m\"\u001b[39m)\n",
      "File \u001b[0;32m~/qpmwp-course/env3.12/lib/python3.12/site-packages/qpsolvers/solvers/qpax_.py:19\u001b[0m\n\u001b[1;32m     16\u001b[0m \u001b[38;5;28;01mfrom\u001b[39;00m \u001b[38;5;21;01mtyping\u001b[39;00m \u001b[38;5;28;01mimport\u001b[39;00m Optional\n\u001b[1;32m     18\u001b[0m \u001b[38;5;28;01mimport\u001b[39;00m \u001b[38;5;21;01mnumpy\u001b[39;00m \u001b[38;5;28;01mas\u001b[39;00m \u001b[38;5;21;01mnp\u001b[39;00m\n\u001b[0;32m---> 19\u001b[0m \u001b[38;5;28;01mimport\u001b[39;00m \u001b[38;5;21;01mqpax\u001b[39;00m\n\u001b[1;32m     20\u001b[0m \u001b[38;5;28;01mimport\u001b[39;00m \u001b[38;5;21;01mscipy\u001b[39;00m\u001b[38;5;21;01m.\u001b[39;00m\u001b[38;5;21;01msparse\u001b[39;00m \u001b[38;5;28;01mas\u001b[39;00m \u001b[38;5;21;01mspa\u001b[39;00m\n\u001b[1;32m     22\u001b[0m \u001b[38;5;28;01mfrom\u001b[39;00m \u001b[38;5;21;01m.\u001b[39;00m\u001b[38;5;21;01m.\u001b[39;00m\u001b[38;5;21;01mconversions\u001b[39;00m \u001b[38;5;28;01mimport\u001b[39;00m linear_from_box_inequalities, split_dual_linear_box\n",
      "File \u001b[0;32m~/qpmwp-course/env3.12/lib/python3.12/site-packages/qpax/__init__.py:1\u001b[0m\n\u001b[0;32m----> 1\u001b[0m \u001b[38;5;28;01mfrom\u001b[39;00m \u001b[38;5;21;01m.\u001b[39;00m\u001b[38;5;21;01mdiff_qp\u001b[39;00m \u001b[38;5;28;01mimport\u001b[39;00m solve_qp_primal\n\u001b[1;32m      2\u001b[0m \u001b[38;5;28;01mfrom\u001b[39;00m \u001b[38;5;21;01m.\u001b[39;00m\u001b[38;5;21;01melastic_qp\u001b[39;00m \u001b[38;5;28;01mimport\u001b[39;00m solve_qp_elastic, solve_qp_elastic_primal\n\u001b[1;32m      3\u001b[0m \u001b[38;5;28;01mfrom\u001b[39;00m \u001b[38;5;21;01m.\u001b[39;00m\u001b[38;5;21;01mpdip\u001b[39;00m \u001b[38;5;28;01mimport\u001b[39;00m solve_qp\n",
      "File \u001b[0;32m~/qpmwp-course/env3.12/lib/python3.12/site-packages/qpax/diff_qp.py:1\u001b[0m\n\u001b[0;32m----> 1\u001b[0m \u001b[38;5;28;01mimport\u001b[39;00m \u001b[38;5;21;01mjax\u001b[39;00m\n\u001b[1;32m      2\u001b[0m \u001b[38;5;28;01mimport\u001b[39;00m \u001b[38;5;21;01mjax\u001b[39;00m\u001b[38;5;21;01m.\u001b[39;00m\u001b[38;5;21;01mnumpy\u001b[39;00m \u001b[38;5;28;01mas\u001b[39;00m \u001b[38;5;21;01mjnp\u001b[39;00m\n\u001b[1;32m      4\u001b[0m \u001b[38;5;28;01mfrom\u001b[39;00m \u001b[38;5;21;01mqpax\u001b[39;00m\u001b[38;5;21;01m.\u001b[39;00m\u001b[38;5;21;01mpdip\u001b[39;00m \u001b[38;5;28;01mimport\u001b[39;00m factorize_kkt, solve_kkt_rhs, solve_qp\n",
      "File \u001b[0;32m~/qpmwp-course/env3.12/lib/python3.12/site-packages/jax/__init__.py:25\u001b[0m\n\u001b[1;32m     22\u001b[0m \u001b[38;5;28;01mfrom\u001b[39;00m \u001b[38;5;21;01mjax\u001b[39;00m\u001b[38;5;21;01m.\u001b[39;00m\u001b[38;5;21;01mversion\u001b[39;00m \u001b[38;5;28;01mimport\u001b[39;00m __version_info__ \u001b[38;5;28;01mas\u001b[39;00m __version_info__\n\u001b[1;32m     24\u001b[0m \u001b[38;5;66;03m# Set Cloud TPU env vars if necessary before transitively loading C++ backend\u001b[39;00m\n\u001b[0;32m---> 25\u001b[0m \u001b[38;5;28;01mfrom\u001b[39;00m \u001b[38;5;21;01mjax\u001b[39;00m\u001b[38;5;21;01m.\u001b[39;00m\u001b[38;5;21;01m_src\u001b[39;00m\u001b[38;5;21;01m.\u001b[39;00m\u001b[38;5;21;01mcloud_tpu_init\u001b[39;00m \u001b[38;5;28;01mimport\u001b[39;00m cloud_tpu_init \u001b[38;5;28;01mas\u001b[39;00m _cloud_tpu_init\n\u001b[1;32m     26\u001b[0m \u001b[38;5;28;01mtry\u001b[39;00m:\n\u001b[1;32m     27\u001b[0m   _cloud_tpu_init()\n",
      "File \u001b[0;32m~/qpmwp-course/env3.12/lib/python3.12/site-packages/jax/_src/cloud_tpu_init.py:17\u001b[0m\n\u001b[1;32m     15\u001b[0m \u001b[38;5;28;01mimport\u001b[39;00m \u001b[38;5;21;01mos\u001b[39;00m\n\u001b[1;32m     16\u001b[0m \u001b[38;5;28;01mfrom\u001b[39;00m \u001b[38;5;21;01mjax\u001b[39;00m \u001b[38;5;28;01mimport\u001b[39;00m version\n\u001b[0;32m---> 17\u001b[0m \u001b[38;5;28;01mfrom\u001b[39;00m \u001b[38;5;21;01mjax\u001b[39;00m\u001b[38;5;21;01m.\u001b[39;00m\u001b[38;5;21;01m_src\u001b[39;00m \u001b[38;5;28;01mimport\u001b[39;00m config\n\u001b[1;32m     18\u001b[0m \u001b[38;5;28;01mfrom\u001b[39;00m \u001b[38;5;21;01mjax\u001b[39;00m\u001b[38;5;21;01m.\u001b[39;00m\u001b[38;5;21;01m_src\u001b[39;00m \u001b[38;5;28;01mimport\u001b[39;00m hardware_utils\n\u001b[1;32m     20\u001b[0m running_in_cloud_tpu_vm: \u001b[38;5;28mbool\u001b[39m \u001b[38;5;241m=\u001b[39m \u001b[38;5;28;01mFalse\u001b[39;00m\n",
      "File \u001b[0;32m~/qpmwp-course/env3.12/lib/python3.12/site-packages/jax/_src/config.py:26\u001b[0m\n\u001b[1;32m     23\u001b[0m \u001b[38;5;28;01mimport\u001b[39;00m \u001b[38;5;21;01msys\u001b[39;00m\n\u001b[1;32m     24\u001b[0m \u001b[38;5;28;01mfrom\u001b[39;00m \u001b[38;5;21;01mtyping\u001b[39;00m \u001b[38;5;28;01mimport\u001b[39;00m Any, Generic, NoReturn, Optional, Protocol, TypeVar, cast\n\u001b[0;32m---> 26\u001b[0m \u001b[38;5;28;01mfrom\u001b[39;00m \u001b[38;5;21;01mjax\u001b[39;00m\u001b[38;5;21;01m.\u001b[39;00m\u001b[38;5;21;01m_src\u001b[39;00m\u001b[38;5;21;01m.\u001b[39;00m\u001b[38;5;21;01mlib\u001b[39;00m \u001b[38;5;28;01mimport\u001b[39;00m guard_lib\n\u001b[1;32m     27\u001b[0m \u001b[38;5;28;01mfrom\u001b[39;00m \u001b[38;5;21;01mjax\u001b[39;00m\u001b[38;5;21;01m.\u001b[39;00m\u001b[38;5;21;01m_src\u001b[39;00m\u001b[38;5;21;01m.\u001b[39;00m\u001b[38;5;21;01mlib\u001b[39;00m \u001b[38;5;28;01mimport\u001b[39;00m jax_jit\n\u001b[1;32m     28\u001b[0m \u001b[38;5;28;01mfrom\u001b[39;00m \u001b[38;5;21;01mjax\u001b[39;00m\u001b[38;5;21;01m.\u001b[39;00m\u001b[38;5;21;01m_src\u001b[39;00m\u001b[38;5;21;01m.\u001b[39;00m\u001b[38;5;21;01mlib\u001b[39;00m \u001b[38;5;28;01mimport\u001b[39;00m xla_client\n",
      "File \u001b[0;32m~/qpmwp-course/env3.12/lib/python3.12/site-packages/jax/_src/lib/__init__.py:84\u001b[0m\n\u001b[1;32m     80\u001b[0m \u001b[38;5;66;03m# Before importing any C compiled modules from jaxlib, first import the CPU\u001b[39;00m\n\u001b[1;32m     81\u001b[0m \u001b[38;5;66;03m# feature guard module to verify that jaxlib was compiled in a way that only\u001b[39;00m\n\u001b[1;32m     82\u001b[0m \u001b[38;5;66;03m# uses instructions that are present on this machine.\u001b[39;00m\n\u001b[1;32m     83\u001b[0m \u001b[38;5;28;01mimport\u001b[39;00m \u001b[38;5;21;01mjaxlib\u001b[39;00m\u001b[38;5;21;01m.\u001b[39;00m\u001b[38;5;21;01mcpu_feature_guard\u001b[39;00m \u001b[38;5;28;01mas\u001b[39;00m \u001b[38;5;21;01mcpu_feature_guard\u001b[39;00m\n\u001b[0;32m---> 84\u001b[0m \u001b[43mcpu_feature_guard\u001b[49m\u001b[38;5;241;43m.\u001b[39;49m\u001b[43mcheck_cpu_features\u001b[49m\u001b[43m(\u001b[49m\u001b[43m)\u001b[49m\n\u001b[1;32m     86\u001b[0m \u001b[38;5;28;01mimport\u001b[39;00m \u001b[38;5;21;01mjaxlib\u001b[39;00m\u001b[38;5;21;01m.\u001b[39;00m\u001b[38;5;21;01mutils\u001b[39;00m \u001b[38;5;28;01mas\u001b[39;00m \u001b[38;5;21;01mutils\u001b[39;00m  \u001b[38;5;66;03m# noqa: F401\u001b[39;00m\n\u001b[1;32m     87\u001b[0m \u001b[38;5;28;01mimport\u001b[39;00m \u001b[38;5;21;01mjaxlib\u001b[39;00m\u001b[38;5;21;01m.\u001b[39;00m\u001b[38;5;21;01mxla_client\u001b[39;00m \u001b[38;5;28;01mas\u001b[39;00m \u001b[38;5;21;01mxla_client\u001b[39;00m\n",
      "\u001b[0;31mRuntimeError\u001b[0m: This version of jaxlib was built using AVX instructions, which your CPU and/or operating system do not support. This error is frequently encountered on macOS when running an x86 Python installation on ARM hardware. In this case, try installing an ARM build of Python. Otherwise, you may be able work around this issue by building jaxlib from source."
     ]
    }
   ],
   "source": [
    "# Standard library imports\n",
    "import os\n",
    "import sys\n",
    "import types\n",
    "\n",
    "# Third party imports\n",
    "import numpy as np\n",
    "import pandas as pd\n",
    "\n",
    "# Add the project root directory to Python path\n",
    "project_root = os.getcwd()\n",
    "src_path = os.path.join(project_root, 'src')\n",
    "sys.path.insert(0, project_root)\n",
    "sys.path.insert(0, src_path)\n",
    "\n",
    "# Local modules imports\n",
    "from helper_functions import load_data_msci\n",
    "from estimation.covariance import Covariance\n",
    "from estimation.expected_return import ExpectedReturn\n",
    "from optimization.optimization import MeanVariance\n",
    "from backtesting.backtest_item_builder_classes import (\n",
    "    SelectionItemBuilder,\n",
    "    OptimizationItemBuilder,\n",
    ")\n",
    "from backtesting.backtest_item_builder_functions import (\n",
    "    bibfn_selection_data_random,\n",
    "    bibfn_return_series,\n",
    "    bibfn_budget_constraint,\n",
    "    bibfn_box_constraints,\n",
    ")\n",
    "from backtesting.portfolio import floating_weights\n",
    "from backtesting.backtest_service import BacktestService\n",
    "from backtesting.backtest import Backtest"
   ]
  },
  {
   "cell_type": "code",
   "execution_count": null,
   "metadata": {},
   "outputs": [],
   "source": [
    "# Add the project root directory to Python path\n",
    "print(f\"Current Working Directory (where notebook is): {os.getcwd()}\")\n",
    "project_root = os.path.dirname(os.path.dirname(os.getcwd()))   #<Change this path if needed>\n",
    "print(f\"Calculated project_root: {project_root}\")\n",
    "print(f\"Does project_root exist? {os.path.exists(project_root)}\")\n",
    "\n",
    "# ---> Adjust this line based on your actual structure <---\n",
    "src_path = os.path.join(project_root, 'qpmwp-course', 'src')\n",
    "# Or maybe it's just:\n",
    "# src_path = os.path.join(project_root, 'src')\n",
    "\n",
    "print(f\"Calculated src_path: {src_path}\")\n",
    "print(f\"Does src_path exist? {os.path.exists(src_path)}\")\n",
    "print(f\"Does helper_functions.py exist in src_path? {os.path.exists(os.path.join(src_path, 'helper_functions.py'))}\")\n",
    "\n",
    "sys.path.append(project_root)\n",
    "sys.path.append(src_path)\n",
    "\n",
    "# See the final search paths\n",
    "# import sys # Already imported\n",
    "# print(\"\\n sys.path after additions:\")\n",
    "# print(sys.path)\n",
    "\n",
    "# Local modules imports\n",
    "try:\n",
    "    from helper_functions import load_data_msci\n",
    "    # ... rest of your imports\n",
    "    print(\"Successfully imported helper_functions\")\n",
    "except ImportError as e:\n",
    "    print(f\"ImportError still occurring: {e}\")\n",
    "    print(\"Please double-check the printed paths above and your file structure.\")\n",
    "\n",
    "# ... rest of your script"
   ]
  },
  {
   "cell_type": "markdown",
   "metadata": {},
   "source": [
    "### Data load"
   ]
  },
  {
   "cell_type": "code",
   "execution_count": 2,
   "metadata": {},
   "outputs": [],
   "source": [
    "N = 24\n",
    "data = load_data_msci(path = '../data/', n = N)  #<Change the path if needed>"
   ]
  },
  {
   "cell_type": "markdown",
   "metadata": {},
   "source": [
    "### Prepare backtest service"
   ]
  },
  {
   "cell_type": "code",
   "execution_count": null,
   "metadata": {},
   "outputs": [],
   "source": [
    "# Define rebalancing dates\n",
    "n_days = 21 * 3\n",
    "start_date = '2010-01-01'\n",
    "dates = data['return_series'].index\n",
    "rebdates = dates[dates > start_date][::n_days].strftime('%Y-%m-%d').tolist()\n",
    "\n",
    "# Define the selection item builders.\n",
    "selection_item_builders = {\n",
    "    'data': SelectionItemBuilder(\n",
    "        bibfn = bibfn_selection_data_random,\n",
    "        k = 10,\n",
    "        seed = 42,\n",
    "    ),\n",
    "}\n",
    "\n",
    "# Define the optimization item builders.\n",
    "optimization_item_builders = {\n",
    "    'return_series': OptimizationItemBuilder(\n",
    "        bibfn = bibfn_return_series,\n",
    "        width = 365 * 3,\n",
    "    ),\n",
    "    'budget_constraint': OptimizationItemBuilder(\n",
    "        bibfn = bibfn_budget_constraint,\n",
    "        budget = 1,\n",
    "    ),\n",
    "    'box_constraints': OptimizationItemBuilder(\n",
    "        bibfn = bibfn_box_constraints,\n",
    "        upper = 0.5,\n",
    "    ),\n",
    "}\n",
    "\n",
    "# Initialize the backtest service\n",
    "bs = BacktestService(\n",
    "    data = data,\n",
    "    selection_item_builders = selection_item_builders,\n",
    "    optimization_item_builders = optimization_item_builders,\n",
    "    optimization = MeanVariance(\n",
    "        covariance = Covariance(method = 'pearson'),\n",
    "        expected_return = ExpectedReturn(method = 'geometric'),\n",
    "        risk_aversion = 1,\n",
    "        solver_name = 'cvxopt',\n",
    "    ),\n",
    "    rebdates = rebdates,\n",
    ")"
   ]
  },
  {
   "cell_type": "markdown",
   "metadata": {},
   "source": [
    "### Run the backtest"
   ]
  },
  {
   "cell_type": "code",
   "execution_count": 25,
   "metadata": {},
   "outputs": [],
   "source": [
    "# Instantiate the backtest object and run the backtest\n",
    "bt_mv = Backtest()\n",
    "\n",
    "# Run the backtest\n",
    "bt_mv.run(bs = bs)"
   ]
  },
  {
   "cell_type": "markdown",
   "metadata": {},
   "source": [
    "## 1. Turnover\n",
    "\n",
    "**(6 points)**\n",
    "\n",
    "Complete the function `turnover`."
   ]
  },
  {
   "cell_type": "code",
   "execution_count": null,
   "metadata": {},
   "outputs": [],
   "source": [
    "def turnover(self, return_series: pd.DataFrame, rescale: bool=True):\n",
    "    \"\"\"\n",
    "    Calculate the turnover between consecutive portfolios.\n",
    "    \n",
    "    Args:\n",
    "        return_series: DataFrame with returns of all assets\n",
    "        rescale: Boolean indicating whether to rescale the weights\n",
    "        \n",
    "    Returns:\n",
    "        Series with turnover values for each rebalancing date\n",
    "    \"\"\"\n",
    "    dates = self.get_rebalancing_dates()\n",
    "    to = {}\n",
    "    to[dates[0]] = float(1)\n",
    "    for rebalancing_date in dates[1:]:\n",
    "\n",
    "        previous_portfolio = self.get_previous_portfolio(rebalancing_date)\n",
    "        current_portfolio = self.get_portfolio(rebalancing_date)\n",
    "        \n",
    "        if current_portfolio.rebalancing_date is None or previous_portfolio.rebalancing_date is None:\n",
    "            raise ValueError('Portfolios must have a rebalancing date')\n",
    "\n",
    "        if current_portfolio.rebalancing_date < previous_portfolio.rebalancing_date:\n",
    "            raise ValueError('The previous portfolio must be older than the current portfolio')\n",
    "\n",
    "        # Get the union of the ids of the weights in both portfolios (previous and current)\n",
    "        all_ids = set(previous_portfolio.weights.index) | set(current_portfolio.weights.index)\n",
    "\n",
    "        # Extend the weights of the previous portfolio to the union of ids in both portfolios by adding zeros\n",
    "        prev_weights_extended = pd.Series(0, index=all_ids)\n",
    "        prev_weights_extended.loc[previous_portfolio.weights.index] = previous_portfolio.weights\n",
    "\n",
    "        # Float the weights of the previous portfolio according to the price drifts in the market \n",
    "        # until the current rebalancing date\n",
    "        floated_weights = floating_weights(\n",
    "            X=return_series,\n",
    "            w=prev_weights_extended,\n",
    "            start_date=previous_portfolio.rebalancing_date,\n",
    "            end_date=current_portfolio.rebalancing_date,\n",
    "            rescale=rescale\n",
    "        ).iloc[-1]\n",
    "\n",
    "        # Extract the weights of the current portfolio\n",
    "        current_weights_extended = pd.Series(0, index=all_ids)\n",
    "        current_weights_extended.loc[current_portfolio.weights.index] = current_portfolio.weights\n",
    "\n",
    "        # Calculate the turnover as the sum of absolute differences between floated weights and current weights\n",
    "        to[rebalancing_date] = np.sum(np.abs(floated_weights - current_weights_extended))\n",
    "\n",
    "    return pd.Series(to)"
   ]
  },
  {
   "cell_type": "markdown",
   "metadata": {},
   "source": [
    "2: Simulation\n",
    "\n",
    "(6 points)\n",
    "\n",
    "Complete the function `simulate`."
   ]
  },
  {
   "cell_type": "code",
   "execution_count": null,
   "metadata": {},
   "outputs": [],
   "source": [
    "def simulate(self,\n",
    "                return_series: pd.DataFrame,\n",
    "                fc: float = 0,\n",
    "                vc: float = 0,\n",
    "                n_days_per_year: int = 252) -> pd.Series:\n",
    "    \"\"\"\n",
    "    Simulate portfolio returns with transaction costs.\n",
    "    \n",
    "    Args:\n",
    "        return_series: DataFrame with returns of all assets\n",
    "        fc: Fixed cost as annual percentage\n",
    "        vc: Variable cost as percentage of turnover\n",
    "        n_days_per_year: Number of trading days per year\n",
    "        \n",
    "    Returns:\n",
    "        Series with portfolio returns\n",
    "    \"\"\"\n",
    "    rebdates = self.get_rebalancing_dates()\n",
    "    ret_list = []\n",
    "    for rebdate in rebdates:\n",
    "        next_rebdate = (\n",
    "            rebdates[rebdates.index(rebdate) + 1]\n",
    "            if rebdate < rebdates[-1]\n",
    "            else return_series.index[-1]\n",
    "        )\n",
    "\n",
    "        portfolio = self.get_portfolio(rebdate)\n",
    "        w_float = portfolio.float_weights(\n",
    "            return_series=return_series,\n",
    "            end_date=next_rebdate,\n",
    "            rescale=False # Notice that rescale is hardcoded to False.\n",
    "        )\n",
    "        level = w_float.sum(axis=1)\n",
    "        ret_tmp = level.pct_change(1)\n",
    "        ret_list.append(ret_tmp)\n",
    "\n",
    "    portf_ret = pd.concat(ret_list).dropna()\n",
    "\n",
    "    if vc != 0:\n",
    "        # Calculate turnover\n",
    "        to = self.turnover(return_series=return_series,\n",
    "                           rescale=False)\n",
    "        \n",
    "        # Calculate variable cost (vc) as a fraction of turnover and\n",
    "        # subtract the variable cost from the returns at each rebalancing date\n",
    "        for rebdate in rebdates:\n",
    "            if rebdate in to.index and rebdate in portf_ret.index:\n",
    "                # Apply variable cost as percentage of turnover on rebalancing dates\n",
    "                portf_ret.loc[rebdate] -= to[rebdate] * vc\n",
    "\n",
    "    if fc != 0:\n",
    "        # Calculate number of days between returns\n",
    "        days_between = pd.Series(index=portf_ret.index)\n",
    "        for i in range(len(days_between)-1):\n",
    "            days_between.iloc[i+1] = (portf_ret.index[i+1] - portf_ret.index[i]).days\n",
    "        days_between.iloc[0] = 1  # Assume 1 day for the first entry\n",
    "        \n",
    "        # Calculate daily fixed cost based on the annual fixed cost (fc),\n",
    "        # the number of days between two rebalancings and the number of days per year\n",
    "        daily_fc = fc / n_days_per_year\n",
    "        \n",
    "        # Subtract the daily fixed cost from the daily returns\n",
    "        portf_ret = portf_ret - daily_fc\n",
    "\n",
    "    return portf_ret"
   ]
  },
  {
   "cell_type": "markdown",
   "metadata": {},
   "source": [
    "Overwrite the turnover and the simulation methods of the current strategy object."
   ]
  },
  {
   "cell_type": "code",
   "execution_count": 15,
   "metadata": {},
   "outputs": [],
   "source": [
    "# Overwrite the turnover method of the strategy object\n",
    "bt_mv.strategy.turnover = types.MethodType(turnover, bt_mv.strategy)\n",
    "\n",
    "# Overwrite the simulate method of the strategy object\n",
    "bt_mv.strategy.simulate = types.MethodType(simulate, bt_mv.strategy)"
   ]
  },
  {
   "cell_type": "markdown",
   "metadata": {},
   "source": [
    "Calculate and plot the turnover."
   ]
  },
  {
   "cell_type": "code",
   "execution_count": null,
   "metadata": {},
   "outputs": [],
   "source": [
    "bt_mv.strategy.turnover(\n",
    "    return_series = data['return_series'],\n",
    "    rescale = True,\n",
    ").plot(title = 'Turnover', figsize = (10, 5))\n"
   ]
  },
  {
   "cell_type": "markdown",
   "metadata": {},
   "source": [
    "Simulate with different cost assumptions."
   ]
  },
  {
   "cell_type": "code",
   "execution_count": null,
   "metadata": {},
   "outputs": [],
   "source": [
    "return_series = bs.data['return_series']\n",
    "\n",
    "sim_mv_gross = bt_mv.strategy.simulate(return_series=return_series, fc=0, vc=0)\n",
    "sim_mv_net_of_fc = bt_mv.strategy.simulate(return_series=return_series, fc=0.01, vc=0)\n",
    "sim_mv_net_of_vc = bt_mv.strategy.simulate(return_series=return_series, fc=0, vc=0.002)\n",
    "sim_mv_net = bt_mv.strategy.simulate(return_series=return_series, fc=0.01, vc=0.002)\n"
   ]
  },
  {
   "cell_type": "markdown",
   "metadata": {},
   "source": [
    "Plot the cumulative returns."
   ]
  },
  {
   "cell_type": "code",
   "execution_count": null,
   "metadata": {},
   "outputs": [],
   "source": [
    "sim = pd.concat({\n",
    "    'mv_gross': sim_mv_gross,\n",
    "    'mv_net_of_fc': sim_mv_net_of_fc,\n",
    "    'mv_net_of_vc': sim_mv_net_of_vc,\n",
    "    'mv_net': sim_mv_net,\n",
    "}, axis = 1).dropna()\n",
    "\n",
    "\n",
    "np.log((1 + sim)).cumsum().plot(figsize = (10, 6))"
   ]
  },
  {
   "cell_type": "markdown",
   "metadata": {},
   "source": [
    "3: Descriptive Statistics\n",
    "\n",
    "(3 points)\n",
    "\n",
    "Generate a table with descriptive statistics of the simulations. Include the following statistics:\n",
    "- cumulative return (i.e., the return over the entire simulation period)\n",
    "- annualized average returns\n",
    "- annualized volatility\n",
    "- sharpe ratio\n",
    "- maximum drawdown"
   ]
  },
  {
   "cell_type": "code",
   "execution_count": null,
   "metadata": {},
   "outputs": [],
   "source": [
    "# Define a function to calculate performance metrics\n",
    "def calculate_performance_metrics(returns, n_days_per_year=252):\n",
    "    \"\"\"\n",
    "    Calculate various performance metrics for a return series.\n",
    "    \n",
    "    Args:\n",
    "        returns: Series of returns\n",
    "        n_days_per_year: Number of trading days per year\n",
    "    \n",
    "    Returns:\n",
    "        Series with performance metrics\n",
    "    \"\"\"\n",
    "    # Ensure we have a clean Series\n",
    "    returns = returns.dropna()\n",
    "    \n",
    "    # Calculate cumulative return\n",
    "    cum_return = (1 + returns).prod() - 1\n",
    "    \n",
    "    # Calculate annualized return\n",
    "    n_days = len(returns)\n",
    "    ann_return = (1 + cum_return) ** (n_days_per_year / n_days) - 1\n",
    "    \n",
    "    # Calculate annualized volatility\n",
    "    ann_vol = returns.std() * np.sqrt(n_days_per_year)\n",
    "    \n",
    "    # Calculate Sharpe ratio (assuming risk-free rate = 0)\n",
    "    sharpe = ann_return / ann_vol if ann_vol != 0 else 0\n",
    "    \n",
    "    # Calculate maximum drawdown\n",
    "    cum_returns = (1 + returns).cumprod()\n",
    "    running_max = cum_returns.cummax()\n",
    "    drawdown = (cum_returns / running_max - 1)\n",
    "    max_drawdown = drawdown.min()\n",
    "    \n",
    "    return pd.Series({\n",
    "        'Cumulative Return': f\"{cum_return:.4f}\",\n",
    "        'Annualized Return': f\"{ann_return:.4f}\",\n",
    "        'Annualized Volatility': f\"{ann_vol:.4f}\",\n",
    "        'Sharpe Ratio': f\"{sharpe:.4f}\",\n",
    "        'Maximum Drawdown': f\"{max_drawdown:.4f}\"\n",
    "    })\n",
    "\n",
    "# Create a dictionary to store performance metrics for each simulation\n",
    "performance = {}\n",
    "\n",
    "# Calculate performance metrics for each simulation\n",
    "performance['Mean-Variance (Gross)'] = calculate_performance_metrics(sim_mv_gross)\n",
    "performance['Mean-Variance (Net of FC)'] = calculate_performance_metrics(sim_mv_net_of_fc)\n",
    "performance['Mean-Variance (Net of VC)'] = calculate_performance_metrics(sim_mv_net_of_vc)\n",
    "performance['Mean-Variance (Net)'] = calculate_performance_metrics(sim_mv_net)\n",
    "\n",
    "# Create a DataFrame with the performance metrics\n",
    "performance_df = pd.DataFrame(performance).T\n",
    "\n",
    "# Display the performance table\n",
    "performance_df"
   ]
  }
 ],
 "metadata": {
  "kernelspec": {
   "display_name": "env3.12",
   "language": "python",
   "name": "python3"
  },
  "language_info": {
   "codemirror_mode": {
    "name": "ipython",
    "version": 3
   },
   "file_extension": ".py",
   "mimetype": "text/x-python",
   "name": "python",
   "nbconvert_exporter": "python",
   "pygments_lexer": "ipython3",
   "version": "3.12.9"
  }
 },
 "nbformat": 4,
 "nbformat_minor": 2
}
